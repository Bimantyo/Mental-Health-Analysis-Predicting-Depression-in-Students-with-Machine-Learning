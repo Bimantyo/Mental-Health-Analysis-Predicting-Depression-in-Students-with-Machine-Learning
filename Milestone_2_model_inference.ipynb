{
 "cells": [
  {
   "cell_type": "markdown",
   "id": "d47e52a9",
   "metadata": {},
   "source": [
    "# 1. INTRODUCTION\n",
    "\n",
    "=================================================\n",
    "\n",
    "Milestone 2 Inference\n",
    "\n",
    "- Nama  : Bimantyo Arya Majid\n",
    "\n",
    "Pada Bagian Inference akan dilakukan uji dengan data baru yang belum pernah dilihat model\n",
    "\n",
    "================================================="
   ]
  },
  {
   "cell_type": "code",
   "execution_count": 1,
   "id": "36fddfbd",
   "metadata": {},
   "outputs": [],
   "source": [
    "# Import Library\n",
    "\n",
    "import pickle # Untuk serializing and deserializing Python objects menjadi binary format\n",
    "import json # Untuk serializing and deserializing Python objects menjadi text yang bisa dibaca dengan format bernama JSON (JavaScript Object Notation).\n",
    "import pandas as pd # Untuk mempermudah pengolahan data \n",
    "import numpy as np # Untuk pengolahan data "
   ]
  },
  {
   "cell_type": "code",
   "execution_count": 2,
   "id": "1a80435d",
   "metadata": {},
   "outputs": [],
   "source": [
    "# Load files \n",
    "\n",
    "with open('best_svm_pipeline_final.pkl', 'rb') as file_1:\n",
    "    best_svm_model = pickle.load(file_1)"
   ]
  },
  {
   "cell_type": "code",
   "execution_count": 7,
   "id": "f773eb76",
   "metadata": {},
   "outputs": [
    {
     "data": {
      "text/html": [
       "<div>\n",
       "<style scoped>\n",
       "    .dataframe tbody tr th:only-of-type {\n",
       "        vertical-align: middle;\n",
       "    }\n",
       "\n",
       "    .dataframe tbody tr th {\n",
       "        vertical-align: top;\n",
       "    }\n",
       "\n",
       "    .dataframe thead th {\n",
       "        text-align: right;\n",
       "    }\n",
       "</style>\n",
       "<table border=\"1\" class=\"dataframe\">\n",
       "  <thead>\n",
       "    <tr style=\"text-align: right;\">\n",
       "      <th></th>\n",
       "      <th>id</th>\n",
       "      <th>gender</th>\n",
       "      <th>age</th>\n",
       "      <th>city</th>\n",
       "      <th>profession</th>\n",
       "      <th>academic_pressure</th>\n",
       "      <th>work_pressure</th>\n",
       "      <th>cgpa</th>\n",
       "      <th>study_satisfaction</th>\n",
       "      <th>job_satisfaction</th>\n",
       "      <th>sleep_duration</th>\n",
       "      <th>dietary_habits</th>\n",
       "      <th>degree</th>\n",
       "      <th>suicidal_thoughts</th>\n",
       "      <th>work/study_hours</th>\n",
       "      <th>financial_stress</th>\n",
       "      <th>fam_hist_mental_illness</th>\n",
       "    </tr>\n",
       "  </thead>\n",
       "  <tbody>\n",
       "    <tr>\n",
       "      <th>0</th>\n",
       "      <td>9999</td>\n",
       "      <td>Male</td>\n",
       "      <td>28</td>\n",
       "      <td>Bogor</td>\n",
       "      <td>student</td>\n",
       "      <td>5</td>\n",
       "      <td>0</td>\n",
       "      <td>4</td>\n",
       "      <td>1</td>\n",
       "      <td>0</td>\n",
       "      <td>7-8 hours</td>\n",
       "      <td>Unhealthy</td>\n",
       "      <td>S1</td>\n",
       "      <td>No</td>\n",
       "      <td>1</td>\n",
       "      <td>4</td>\n",
       "      <td>Yes</td>\n",
       "    </tr>\n",
       "  </tbody>\n",
       "</table>\n",
       "</div>"
      ],
      "text/plain": [
       "     id gender  age   city profession  academic_pressure  work_pressure  cgpa  \\\n",
       "0  9999   Male   28  Bogor    student                  5              0     4   \n",
       "\n",
       "   study_satisfaction  job_satisfaction sleep_duration dietary_habits degree  \\\n",
       "0                   1                 0      7-8 hours      Unhealthy     S1   \n",
       "\n",
       "  suicidal_thoughts  work/study_hours  financial_stress  \\\n",
       "0                No                 1                 4   \n",
       "\n",
       "  fam_hist_mental_illness  \n",
       "0                     Yes  "
      ]
     },
     "execution_count": 7,
     "metadata": {},
     "output_type": "execute_result"
    }
   ],
   "source": [
    "# Create New data untuk inference\n",
    "# Menggunakan keseluruhan data yang ada\n",
    "\n",
    "data_inf = {\n",
    "    'id' : 9999,\n",
    "    'gender' : 'Male',\n",
    "    'age' : 28,\n",
    "    'city' : 'Bogor',\n",
    "    'profession' : 'student',\n",
    "    'academic_pressure' : 5,\n",
    "    'work_pressure' : 0,\n",
    "    'cgpa' : 4,\n",
    "    'study_satisfaction' : 1,\n",
    "    'job_satisfaction' : 0,\n",
    "    'sleep_duration' : '7-8 hours',\n",
    "    'dietary_habits' : 'Unhealthy',\n",
    "    'degree' : 'S1',\n",
    "    'suicidal_thoughts' : 'No',\n",
    "    'work/study_hours' : 1,\n",
    "    'financial_stress' : 4,\n",
    "    'fam_hist_mental_illness' : 'Yes',\n",
    "}\n",
    "\n",
    "data_inf = pd.DataFrame([data_inf])\n",
    "data_inf"
   ]
  },
  {
   "cell_type": "code",
   "execution_count": null,
   "id": "6dd667e7",
   "metadata": {},
   "outputs": [
    {
     "name": "stdout",
     "output_type": "stream",
     "text": [
      "Prediksi Kesehatan Mental Student adalah : [1]\n",
      "Kemungkinan Prediksi : [[0.16857834 0.83142166]]\n"
     ]
    }
   ],
   "source": [
    "# Prediksi\n",
    "prediction = best_svm_model.predict(data_inf)\n",
    "print(\"Prediksi Kesehatan Mental Student adalah :\", prediction)\n",
    "\n",
    "# Cek Probabilitas\n",
    "proba = best_svm_model.predict_proba(data_inf)\n",
    "print(\"Kemungkinan Prediksi :\", proba)"
   ]
  },
  {
   "cell_type": "markdown",
   "id": "ffd78b53",
   "metadata": {},
   "source": [
    "Berdasarkan hasil Inference diatas model memprediksi bahwa user id 9999 berpotensi memiliki depresi yang dinyatakan dalam angka 1 "
   ]
  }
 ],
 "metadata": {
  "kernelspec": {
   "display_name": "base",
   "language": "python",
   "name": "python3"
  },
  "language_info": {
   "codemirror_mode": {
    "name": "ipython",
    "version": 3
   },
   "file_extension": ".py",
   "mimetype": "text/x-python",
   "name": "python",
   "nbconvert_exporter": "python",
   "pygments_lexer": "ipython3",
   "version": "3.12.9"
  }
 },
 "nbformat": 4,
 "nbformat_minor": 5
}
